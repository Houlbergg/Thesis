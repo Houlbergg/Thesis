{
 "cells": [
  {
   "cell_type": "code",
   "execution_count": 28,
   "id": "bd3ecef5-c22a-4d6e-8cf3-4f5a87564637",
   "metadata": {},
   "outputs": [],
   "source": [
    "import numpy as np\n",
    "import pandas as pd\n",
    "import os\n",
    "import sys\n",
    "import time\n",
    "import matplotlib.pyplot as plt\n",
    "%matplotlib notebook\n",
    "\n",
    "import deareis\n",
    "from bayes_drt2.inversion import Inverter\n",
    "import bayes_drt2.file_load as fl\n",
    "import bayes_drt2.plotting as bp"
   ]
  },
  {
   "cell_type": "code",
   "execution_count": 14,
   "id": "de564251-79dc-4661-92d1-60133f9ebd99",
   "metadata": {},
   "outputs": [],
   "source": [
    "# Set plot formatting and data directory\n",
    "datadir = r'..\\ImpedanceDataOld\\Dummy\\FTFF'\n",
    "\n",
    "tick_size = 9\n",
    "label_size = 11\n",
    "\n",
    "plt.rcParams['font.family'] = 'serif'\n",
    "plt.rcParams[\"mathtext.fontset\"] = \"dejavuserif\"\n",
    "plt.rcParams['xtick.labelsize'] = tick_size\n",
    "plt.rcParams['ytick.labelsize'] = tick_size\n",
    "plt.rcParams['axes.labelsize'] = label_size\n",
    "plt.rcParams['legend.fontsize'] = tick_size - 1"
   ]
  },
  {
   "cell_type": "code",
   "execution_count": 27,
   "id": "c0a68de9-f34c-4c79-90b0-b20abe57d0dd",
   "metadata": {},
   "outputs": [
    {
     "data": {
      "text/plain": [
       "array([0.19668688, 0.20495817, 0.2078114 , 0.20846143, 0.2090463 ,\n",
       "       0.20998631, 0.21075028, 0.21189249, 0.21312022, 0.21419415,\n",
       "       0.21558122, 0.21649048, 0.21772952, 0.21882498, 0.21993946,\n",
       "       0.22090174, 0.22184435, 0.22256294, 0.2232175 , 0.22395405,\n",
       "       0.22453226, 0.22498648, 0.2255453 , 0.22597837, 0.22651604,\n",
       "       0.22694366, 0.22746488, 0.22810516, 0.22865421, 0.22935531,\n",
       "       0.23004813, 0.23103765, 0.23193125, 0.23302674, 0.23434877,\n",
       "       0.23582354, 0.23748255, 0.23933828, 0.24145289, 0.24411538,\n",
       "       0.24735741, 0.2506786 , 0.25475875, 0.25957316, 0.26493528,\n",
       "       0.2716963 , 0.2777012 , 0.2841551 , 0.29111403, 0.29876235,\n",
       "       0.30705073, 0.31771433, 0.33365333, 0.35664949, 0.38825378,\n",
       "       0.4339084 , 0.49263337, 0.55878693, 0.62296909, 0.67189473,\n",
       "       0.70474231, 0.72609764, 0.74104768])"
      ]
     },
     "execution_count": 27,
     "metadata": {},
     "output_type": "execute_result"
    }
   ],
   "source": [
    "\"Load data\"\n",
    "Z_file = r\"FTFF_ve=1cms.txt\"\n",
    "#Z_file = os.path.join(datadir,'Dummmy','FTFF','FTFF_ve=1cms.txt')\n",
    "Z_file\n",
    "data = np.loadtxt(Z_file,delimiter=\"\\t\",skiprows=1)\n",
    "\n",
    "# extract frequency and complex impedance\n",
    "freq = data[:,0]\n",
    "Z = data[:,1:2]\n",
    "\n",
    "Z[:,0]\n",
    "# Plot the data\n",
    "#axes = bp.plot_eis(Zdf)"
   ]
  },
  {
   "cell_type": "code",
   "execution_count": 30,
   "id": "1d8b4774-2f0d-4c3a-a83d-6f32ac29e67d",
   "metadata": {},
   "outputs": [
    {
     "data": {
      "text/plain": [
       "array([], shape=(0, 1), dtype=float64)"
      ]
     },
     "execution_count": 30,
     "metadata": {},
     "output_type": "execute_result"
    }
   ],
   "source": [
    "Z[0:0]"
   ]
  },
  {
   "cell_type": "code",
   "execution_count": 5,
   "id": "a21a7150-1dc3-4356-815b-52c71104c877",
   "metadata": {},
   "outputs": [
    {
     "name": "stdout",
     "output_type": "stream",
     "text": [
      "Object `np.complex` not found.\n"
     ]
    }
   ],
   "source": [
    "?np.complex"
   ]
  },
  {
   "cell_type": "code",
   "execution_count": 29,
   "id": "0fb6265f-44f6-4d2e-88b8-f71deefb7908",
   "metadata": {},
   "outputs": [],
   "source": [
    "!deareis"
   ]
  },
  {
   "cell_type": "code",
   "execution_count": null,
   "id": "0940ef72-5711-42f4-aa35-ab01f4ed8439",
   "metadata": {},
   "outputs": [],
   "source": []
  }
 ],
 "metadata": {
  "kernelspec": {
   "display_name": "Python 3 (ipykernel)",
   "language": "python",
   "name": "python3"
  },
  "language_info": {
   "codemirror_mode": {
    "name": "ipython",
    "version": 3
   },
   "file_extension": ".py",
   "mimetype": "text/x-python",
   "name": "python",
   "nbconvert_exporter": "python",
   "pygments_lexer": "ipython3",
   "version": "3.9.18"
  }
 },
 "nbformat": 4,
 "nbformat_minor": 5
}
